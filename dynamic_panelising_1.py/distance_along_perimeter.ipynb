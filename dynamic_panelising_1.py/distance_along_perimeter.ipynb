{
 "cells": [
  {
   "cell_type": "code",
   "execution_count": 2,
   "metadata": {},
   "outputs": [
    {
     "name": "stdout",
     "output_type": "stream",
     "text": [
      "6.0\n"
     ]
    }
   ],
   "source": [
    "import numpy as np\n",
    "def distance_along_perimeter(polygon, point1, point2):\n",
    "    def on_segment(p, q, r):\n",
    "        \"\"\"Check if point q lies on line segment 'pr'\"\"\"\n",
    "        if (q[0] <= max(p[0], r[0]) and q[0] >= min(p[0], r[0]) and\n",
    "            q[1] <= max(p[1], r[1]) and q[1] >= min(p[1], r[1])):\n",
    "            return True\n",
    "        return False\n",
    "\n",
    "    def distance(p1, p2):\n",
    "        \"\"\"Euclidean distance between two points\"\"\"\n",
    "        return np.linalg.norm(p2 - p1)\n",
    "\n",
    "    total_distance = 0.0\n",
    "    found_first_point = False\n",
    "\n",
    "    for i in range(len(polygon)):\n",
    "        p1 = polygon[i]\n",
    "        p2 = polygon[(i + 1) % len(polygon)]\n",
    "\n",
    "        if on_segment(p1, point1, p2):\n",
    "            total_distance += distance(point1, p2)\n",
    "            found_first_point = True\n",
    "        elif on_segment(p1, point2, p2):\n",
    "            total_distance += distance(p1, point2)\n",
    "            return total_distance\n",
    "        elif found_first_point:\n",
    "            total_distance += distance(p1, p2)\n",
    "\n",
    "    return -1  # One or both points are not on the perimeter\n",
    "\n",
    "# Example usage\n",
    "polygon = np.array([[0, 0], [2, 0], [2, 2], [0, 2]])\n",
    "point1 = np.array([1, 0])\n",
    "point2 = np.array([0, 1])\n",
    "print(distance_along_perimeter(polygon, point1, point2))\n"
   ]
  },
  {
   "cell_type": "code",
   "execution_count": null,
   "metadata": {},
   "outputs": [],
   "source": []
  }
 ],
 "metadata": {
  "kernelspec": {
   "display_name": "python-testing-2eXbyfwZ-py3.12",
   "language": "python",
   "name": "python3"
  },
  "language_info": {
   "codemirror_mode": {
    "name": "ipython",
    "version": 3
   },
   "file_extension": ".py",
   "mimetype": "text/x-python",
   "name": "python",
   "nbconvert_exporter": "python",
   "pygments_lexer": "ipython3",
   "version": "3.12.0"
  }
 },
 "nbformat": 4,
 "nbformat_minor": 2
}
