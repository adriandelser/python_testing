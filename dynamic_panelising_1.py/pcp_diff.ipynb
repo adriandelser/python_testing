{
 "cells": [
  {
   "cell_type": "code",
   "execution_count": 8,
   "metadata": {},
   "outputs": [],
   "source": [
    "import numpy as np\n",
    "from pprint import pprint"
   ]
  },
  {
   "cell_type": "code",
   "execution_count": 23,
   "metadata": {},
   "outputs": [
    {
     "name": "stdout",
     "output_type": "stream",
     "text": [
      "pcp=array([[0.75, 0.75],\n",
      "       [0.25, 0.  ],\n",
      "       [1.  , 0.25]]), \n",
      " vp=array([[0.25, 0.25],\n",
      "       [0.75, 0.  ],\n",
      "       [1.  , 0.75]])\n",
      "pcp[:, np.newaxis, :]=array([[[0.75, 0.75]],\n",
      "\n",
      "       [[0.25, 0.  ]],\n",
      "\n",
      "       [[1.  , 0.25]]])\n",
      "[[[0.75 0.75]\n",
      "  [0.75 0.75]\n",
      "  [0.75 0.75]]\n",
      "\n",
      " [[0.25 0.  ]\n",
      "  [0.25 0.  ]\n",
      "  [0.25 0.  ]]\n",
      "\n",
      " [[1.   0.25]\n",
      "  [1.   0.25]\n",
      "  [1.   0.25]]]\n",
      "vp[np.newaxis,:, :]=array([[[0.25, 0.25],\n",
      "        [0.75, 0.  ],\n",
      "        [1.  , 0.75]]])\n",
      "[[[0.25 0.25]\n",
      "  [0.75 0.  ]\n",
      "  [1.   0.75]]\n",
      "\n",
      " [[0.25 0.25]\n",
      "  [0.75 0.  ]\n",
      "  [1.   0.75]]\n",
      "\n",
      " [[0.25 0.25]\n",
      "  [0.75 0.  ]\n",
      "  [1.   0.75]]]\n",
      "pcp_diff=array([[[ 0.5 ,  0.5 ],\n",
      "        [ 0.  ,  0.75],\n",
      "        [-0.25,  0.  ]],\n",
      "\n",
      "       [[ 0.  , -0.25],\n",
      "        [-0.5 ,  0.  ],\n",
      "        [-0.75, -0.75]],\n",
      "\n",
      "       [[ 0.75,  0.  ],\n",
      "        [ 0.25,  0.25],\n",
      "        [ 0.  , -0.5 ]]])\n"
     ]
    }
   ],
   "source": [
    "# panels = np.array([[0,0],[1,0],[1,1],[0,1]])\n",
    "panels = np.array([[0,0],[1,0],[1,1]])\n",
    "\n",
    "XYZ2 = panels  # Coordinates of end point of panel\n",
    "XYZ1 = np.roll(panels, 1, axis=0)  # Coordinates of the next end point of panel\n",
    "# print(f\"{XYZ2=}, {XYZ1=}\")\n",
    "diff = XYZ1 - XYZ2\n",
    "# print(f\"{diff=}\")\n",
    "\n",
    "# Controlpoints point at 3/4 of panel. #pcp  = 0.5*( XYZ1 + XYZ2 )[:,:2]\n",
    "pcp = XYZ2 + diff * 0.75\n",
    "# Vortex point at 1/4 of panel.\n",
    "vp = XYZ2 + diff * 0.25\n",
    "print(f\"{pcp=}, \\n {vp=}\")\n",
    "p = pcp[:, np.newaxis, :]\n",
    "\n",
    "print(f\"{pcp[:, np.newaxis, :]=}\")\n",
    "print(np.broadcast_to(p,(3,3,2)))\n",
    "# print(f\"{pcp[:,:, np.newaxis]=}\")\n",
    "\n",
    "print(f\"{vp[np.newaxis,:, :]=}\")\n",
    "print(np.broadcast_to(vp[np.newaxis,:, :],(3,3,2)))\n",
    "\n",
    "# pprint(pcp)\n",
    "#pb is the angle to the normal of the panel\n",
    "pb = np.arctan2(diff[:, 1], diff[:, 0]) + np.pi / 2\n",
    "# print(f\"{pcp.shape=},{vp.shape=},{pb.shape=}\")\n",
    "# print(f\"{pcp[:, np.newaxis, :].shape=}, {vp[np.newaxis, :, :].shape=}\")\n",
    "# Calculate K matrix\n",
    "pcp_diff = pcp[:, np.newaxis, :] - vp[np.newaxis, :, :]\n",
    "print(f\"{pcp_diff=}\")\n"
   ]
  },
  {
   "cell_type": "code",
   "execution_count": null,
   "metadata": {},
   "outputs": [],
   "source": []
  }
 ],
 "metadata": {
  "kernelspec": {
   "display_name": "python-testing-2eXbyfwZ-py3.12",
   "language": "python",
   "name": "python3"
  },
  "language_info": {
   "codemirror_mode": {
    "name": "ipython",
    "version": 3
   },
   "file_extension": ".py",
   "mimetype": "text/x-python",
   "name": "python",
   "nbconvert_exporter": "python",
   "pygments_lexer": "ipython3",
   "version": "3.12.0"
  }
 },
 "nbformat": 4,
 "nbformat_minor": 2
}
