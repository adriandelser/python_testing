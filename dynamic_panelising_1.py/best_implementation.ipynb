{
 "cells": [
  {
   "cell_type": "code",
   "execution_count": 236,
   "metadata": {},
   "outputs": [],
   "source": [
    "from shapely.ops import nearest_points\n",
    "from shapely.geometry import Point, Polygon, LineString\n",
    "import numpy as np\n",
    "import matplotlib.pyplot as plt\n",
    "import time\n",
    "%matplotlib inline"
   ]
  },
  {
   "cell_type": "code",
   "execution_count": 237,
   "metadata": {},
   "outputs": [],
   "source": [
    "def is_point_a_vertex(coords, point, distance_threshold=1e-6):\n",
    "    # all are numpy arrays\n",
    "    distances_to_vertices = np.linalg.norm(coords - point, axis=1)\n",
    "    \n",
    "    # Check if the point is exactly one of the vertices\n",
    "    if np.any(np.isclose(distances_to_vertices, 0, atol=distance_threshold)):\n",
    "        return np.argmin(distances_to_vertices)\n",
    "\n",
    "\n",
    "\n",
    "def find_vertex_after_point_opt(coords, point: tuple) -> int | None:\n",
    "    point_np = np.array(point)\n",
    "    vertex = is_point_a_vertex(coords,point_np)\n",
    "    if vertex is not None:\n",
    "      return vertex\n",
    "\n",
    "    # Define a small distance threshold for approximation\n",
    "    distance_threshold = 1e-6\n",
    "\n",
    "    # Prepare arrays for vectorized edge distance calculation\n",
    "    start_points = coords[:-1]\n",
    "    end_points = coords[1:]\n",
    "    edge_vectors = end_points - start_points\n",
    "    point_vectors = point_np - start_points\n",
    "\n",
    "    # Compute cross product and dot product for distance calculation\n",
    "    cross_prod = np.cross(edge_vectors, point_vectors)\n",
    "    dot_prod = np.einsum('ij,ij->i', edge_vectors, point_vectors)\n",
    "    edge_lengths = np.linalg.norm(edge_vectors, axis=1)\n",
    "\n",
    "    # Calculate distance from point to each edge\n",
    "    distances = np.abs(cross_prod) / edge_lengths\n",
    "    within_edges = (dot_prod > 0) & (dot_prod < np.einsum('ij,ij->i', edge_vectors, edge_vectors))\n",
    "\n",
    "    # Check if the point is close to any edge\n",
    "    close_edges = np.where((distances < distance_threshold) & within_edges)[0]\n",
    "    if close_edges.size > 0:\n",
    "        return (close_edges[0] + 1) % (coords.shape[0]-1)\n",
    "\n",
    "    return None\n"
   ]
  },
  {
   "cell_type": "code",
   "execution_count": 238,
   "metadata": {},
   "outputs": [],
   "source": [
    "def move_point_along_perimeter(polygon:Polygon, point:tuple, length:float|int):\n",
    "    perimeter_length = polygon.length\n",
    "    #if the length is longer than the perimeter, make it the remainder \n",
    "    length = length % perimeter_length \n",
    "    perimeter = polygon.exterior\n",
    "\n",
    "    coords = np.array(perimeter.coords)\n",
    "    current_distance = 0\n",
    "\n",
    "    # Find the index of the vertex after the current point\n",
    "    vertex_idx = find_vertex_after_point_opt(coords, point)\n",
    "    current_point = np.array(point)\n",
    "    \n",
    "    # Rearrange coordinates so the loop starts from the vertex after the current point\n",
    "    # print(f\"{coords=}, {vertex_idx=}\")\n",
    "    # coords = coords[vertex_idx:-1] + coords[:vertex_idx+1]\n",
    "    coords = np.concatenate((coords[vertex_idx:-1], coords[:vertex_idx+1]))\n",
    "    # print(f\"{new_coords=}\")\n",
    "    for i, p in enumerate(coords):\n",
    "        next_vertex = np.array(p)\n",
    "        segment_length = np.linalg.norm(next_vertex-current_point)\n",
    "        # print(f\"{current_point=}, {next_vertex=} {segment_length=}\")\n",
    "        if current_distance + segment_length >= length:\n",
    "            # Interpolate point on the segment\n",
    "            remaining_length = length - current_distance\n",
    "            ratio = remaining_length / segment_length\n",
    "            # vector_to_final_point = next_vertex-current_point\n",
    "            # print(f\"{vector_to_final_point=}, {ratio=}\")\n",
    "            new_point = current_point + ratio * (next_vertex-current_point)\n",
    "            # new_x = current_point.x + ratio * (next_point.x - current_point.x)\n",
    "            # new_y = current_point.y + ratio * (next_point.y - current_point.y)\n",
    "            # print(f\"{new_point=}\")\n",
    "            return tuple(new_point)\n",
    "\n",
    "        current_distance += segment_length\n",
    "        current_point = next_vertex\n",
    "\n",
    "    # return initial point if there are any issues \n",
    "    # NOTE this might be unreachable if the function was properly designed\n",
    "    return None"
   ]
  },
  {
   "cell_type": "code",
   "execution_count": 239,
   "metadata": {},
   "outputs": [],
   "source": [
    "\n",
    "def generate_half_line_positions(L, progression_func, smallest_gap, uniform_range):\n",
    "    # Create initial uniformly spaced positions\n",
    "    midpoint = L/2\n",
    "    uniform_gaps = np.arange(midpoint, midpoint+uniform_range/2, smallest_gap)\n",
    "    last_uniform_pos = uniform_gaps[-1] if len(uniform_gaps) > 0 else 0\n",
    "\n",
    "    # Estimate the number of progressive gaps needed\n",
    "    test_gap = smallest_gap\n",
    "    test_pos = last_uniform_pos\n",
    "    num_gaps = 0\n",
    "    while test_pos < L:\n",
    "        test_gap = progression_func(test_gap)\n",
    "        test_pos += test_gap\n",
    "        num_gaps += 1\n",
    "\n",
    "    # Generate all progressive gaps using a geometric progression\n",
    "    progressive_gaps = smallest_gap * np.geomspace(1, progression_func(1)**(num_gaps - 1), num=num_gaps)\n",
    "\n",
    "    # Compute progressive positions\n",
    "    progressive_positions = last_uniform_pos + np.cumsum(progressive_gaps)\n",
    "    progressive_positions = progressive_positions[progressive_positions < L]\n",
    "\n",
    "    # Combine uniform and progressive positions\n",
    "    positions = np.concatenate((uniform_gaps, progressive_positions))\n",
    "\n",
    "    return positions.tolist()\n",
    "\n",
    "def mirror_positions(positions, L):\n",
    "    # Mirror the positions across the midpoint\n",
    "    print(f\"{L=}\")\n",
    "    mirrored = [L - pos for pos in reversed(positions)]\n",
    "    return mirrored[:-1] + positions  # Exclude the midpoint from one side to avoid duplication"
   ]
  },
  {
   "cell_type": "markdown",
   "metadata": {},
   "source": [
    "Let's start with the point and its opposite on the other side"
   ]
  },
  {
   "cell_type": "code",
   "execution_count": 240,
   "metadata": {},
   "outputs": [
    {
     "name": "stdout",
     "output_type": "stream",
     "text": [
      "t=0.00034370901994407177\n",
      "input_point=(6.0, 2.0)\n"
     ]
    },
    {
     "data": {
      "image/png": "[encoded data removed]",
      "text/plain": [
       "<Figure size 640x480 with 1 Axes>"
      ]
     },
     "metadata": {},
     "output_type": "display_data"
    }
   ],
   "source": [
    "point = Point(7, 2)\n",
    "\n",
    "\n",
    "h = 6\n",
    "polygon = Polygon([(0, 0), (6, 0), (6, h),(3,h+4), (0, h), (-4, h/2)])\n",
    "perimeter = polygon.length\n",
    "coords = np.array(polygon.exterior.coords)\n",
    "\n",
    "\n",
    "p1, p2 = nearest_points(polygon, point)\n",
    "input_point = (p1.x, p1.y)\n",
    "t= time.perf_counter()\n",
    "opposite_point = move_point_along_perimeter(polygon, input_point, perimeter/2)\n",
    "t= time.perf_counter()-t\n",
    "print(f\"{t=}\")\n",
    "plt.plot(*polygon.exterior.xy)\n",
    "plt.plot(*point.xy, 'bo')\n",
    "plt.plot(*input_point, 'go')\n",
    "print(f\"{input_point=}\")\n",
    "plt.plot(*opposite_point, 'ro')\n",
    "\n",
    "#set the aspect ratio to 1 (by getting current axes)\n",
    "\n",
    "ax = plt.gca()\n",
    "\n",
    "ax.set_aspect('equal', adjustable='box')\n",
    "\n",
    "plt.show()"
   ]
  },
  {
   "cell_type": "markdown",
   "metadata": {},
   "source": [
    "Get edge information"
   ]
  },
  {
   "cell_type": "code",
   "execution_count": 241,
   "metadata": {},
   "outputs": [
    {
     "name": "stdout",
     "output_type": "stream",
     "text": [
      "t=0.00022233393974602222\n",
      "Edge lengths = [6. 6. 5. 5. 5. 5.]\n"
     ]
    }
   ],
   "source": [
    "t = time.perf_counter()\n",
    "\n",
    "differences = np.diff(coords, axis=0)\n",
    "# print(differences)\n",
    "\n",
    "# Calculate the Euclidean distances from each vertex to the next\n",
    "edge_lengths = np.linalg.norm(differences, axis=1)\n",
    "# print(edge_lengths)\n",
    "#add a leading zero\n",
    "# vertex_distances = np.insert(vertex_distances, 0,0)\n",
    "\n",
    "\n",
    "t = time.perf_counter()-t\n",
    "\n",
    "print(f\"{t=}\")\n",
    "\n",
    "cumul_edge_lengths = np.cumsum(edge_lengths)\n",
    "print(\"Edge lengths =\", edge_lengths)"
   ]
  },
  {
   "cell_type": "markdown",
   "metadata": {},
   "source": [
    "Define cascading array class"
   ]
  },
  {
   "cell_type": "code",
   "execution_count": 242,
   "metadata": {},
   "outputs": [],
   "source": [
    "class CascadingArrays:\n",
    "    def __init__(self, arrays, max_values):\n",
    "        self.arrays = arrays\n",
    "        self.max_values = max_values\n",
    "\n",
    "    def add(self, value):\n",
    "        # Increment all arrays first\n",
    "        for i in range(len(self.arrays)):\n",
    "            self.arrays[i] += value\n",
    "\n",
    "        # Then cascade\n",
    "        for i in range(len(self.arrays)):\n",
    "            self.cascade(i)\n",
    "\n",
    "    def cascade(self, index):\n",
    "        overflow = self.arrays[index] > self.max_values[index]\n",
    "        while np.any(overflow):\n",
    "            next_index = (index + 1) % len(self.arrays)\n",
    "            overflow_values = self.arrays[index][overflow] - self.max_values[index]\n",
    "            self.arrays[index] = self.arrays[index][~overflow]\n",
    "\n",
    "            # Insert overflow values at the beginning of the next array\n",
    "            self.arrays[next_index] = np.insert(self.arrays[next_index], 0, overflow_values)\n",
    "\n",
    "            index = next_index\n",
    "            overflow = self.arrays[index] > self.max_values[index]\n"
   ]
  },
  {
   "cell_type": "code",
   "execution_count": 243,
   "metadata": {},
   "outputs": [
    {
     "name": "stdout",
     "output_type": "stream",
     "text": [
      "L=32.0\n",
      "t=0.00015104201156646013\n"
     ]
    }
   ],
   "source": [
    "#create subarrays\n",
    "import bisect\n",
    "def find_index(arr, x):\n",
    "    index = bisect.bisect_left(arr, x)\n",
    "    return max(0, index - 1) if index else -1\n",
    "\n",
    "#get 1D distances \n",
    "progression_func = lambda gap: gap * 1.1\n",
    "\n",
    "panels1D = generate_half_line_positions(L=perimeter,progression_func=progression_func, smallest_gap=0.01,uniform_range=0.01)\n",
    "panels1D = mirror_positions(panels1D, L=perimeter)\n",
    "# print(panels1D)\n",
    "# Compute differences\n",
    "# panels1D_diff = np.diff(panels1D, prepend=0.0)\n",
    "panels1D = np.array(panels1D)\n",
    "t = time.perf_counter()\n",
    "split_points1D = []\n",
    "start = 0\n",
    "for i, length in enumerate(cumul_edge_lengths):\n",
    "  prev_len = 0.0 if i==0 else cumul_edge_lengths[i-1]\n",
    "  # print(prev_len)\n",
    "  #fpi, furthest panel index\n",
    "  fpi = find_index(panels1D, length)\n",
    "  # print(length,idx)\n",
    "  split_points1D.append(panels1D[start:fpi+1]-prev_len)\n",
    "  start = fpi+1\n",
    "\n",
    "# print(split_points1D)\n",
    "\n",
    "t = time.perf_counter()-t\n",
    "print(f\"{t=}\")"
   ]
  },
  {
   "cell_type": "code",
   "execution_count": 244,
   "metadata": {},
   "outputs": [],
   "source": [
    "cascading_arrays = CascadingArrays(split_points1D.copy(), edge_lengths)"
   ]
  },
  {
   "cell_type": "code",
   "execution_count": 245,
   "metadata": {},
   "outputs": [],
   "source": [
    "def compute_rotation_matrices(vertices):\n",
    "    # Calculate differences between successive vertices\n",
    "    deltas = np.diff(vertices, axis=0)\n",
    "\n",
    "    # Compute angles to the horizontal\n",
    "    angles = np.arctan2(deltas[:, 1], deltas[:, 0])\n",
    "    # print(f\"{angles=}\")\n",
    "\n",
    "    # Compute rotation matrices\n",
    "    cos_angles = np.cos(angles)\n",
    "    sin_angles = np.sin(angles)\n",
    "    rotation_matrices = np.array([[cos_angles, -sin_angles], [sin_angles, cos_angles]])\n",
    "    # print(rotation_matrices)\n",
    "\n",
    "    # Transpose to get matrices in correct shape\n",
    "    # look this up to see how it is done exactly\n",
    "    rotation_matrices = rotation_matrices.transpose(2, 0, 1)\n",
    "\n",
    "    return rotation_matrices\n",
    "\n",
    "\n",
    "\n",
    "# Example vertices\n",
    "# vertices = np.array([[0, 0], [1, 0], [1, 1], [0, 1],[0, 0]])\n",
    "vertices = coords\n",
    "# print(f\"{vertices=}\")\n",
    "\n",
    "# Compute rotation matrices\n",
    "t = time.perf_counter()\n",
    "rotation_matrices = compute_rotation_matrices(vertices)\n",
    "# print(rotation_matrices)\n",
    "# print(f\"{split_points2D=}\")\n"
   ]
  },
  {
   "cell_type": "code",
   "execution_count": 336,
   "metadata": {},
   "outputs": [
    {
     "name": "stdout",
     "output_type": "stream",
     "text": [
      "t=0.0004262910224497318\n"
     ]
    }
   ],
   "source": [
    "#whole loop in one go:\n",
    "h = 2\n",
    "h = h%32\n",
    "\n",
    "t = time.perf_counter()\n",
    "cascading_arrays.add(h)\n",
    "split_points2D = [np.column_stack((arr, np.zeros(arr.shape))) for arr in cascading_arrays.arrays]\n",
    "rotated_arrays = [(mat@arr.T).T for mat, arr in zip(rotation_matrices, split_points2D)]\n",
    "translated_arrays = [arr + vec for arr, vec in zip(rotated_arrays, coords[:-1])]\n",
    "t = time.perf_counter()-t\n",
    "\n",
    "print(f\"{t=}\")"
   ]
  },
  {
   "cell_type": "code",
   "execution_count": 337,
   "metadata": {},
   "outputs": [
    {
     "data": {
      "image/png": "[encoded data removed]",
      "text/plain": [
       "<Figure size 800x600 with 1 Axes>"
      ]
     },
     "metadata": {},
     "output_type": "display_data"
    }
   ],
   "source": [
    "# Plotting the points in the translated_arrays\n",
    "plt.figure(figsize=(8, 6))\n",
    "\n",
    "for arr in translated_arrays:\n",
    "    plt.scatter(arr[:, 0], arr[:, 1])  # Plot each array's points\n",
    "\n",
    "plt.title('Panel Points')\n",
    "plt.xlabel('X coordinate')\n",
    "plt.ylabel('Y coordinate')\n",
    "plt.grid(True)\n",
    "ax = plt.gca()\n",
    "\n",
    "ax.set_aspect('equal', adjustable='box')\n",
    "plt.plot(*polygon.exterior.xy)\n",
    "\n",
    "plt.show()"
   ]
  }
 ],
 "metadata": {
  "kernelspec": {
   "display_name": "python-testing-2eXbyfwZ-py3.12",
   "language": "python",
   "name": "python3"
  },
  "language_info": {
   "codemirror_mode": {
    "name": "ipython",
    "version": 3
   },
   "file_extension": ".py",
   "mimetype": "text/x-python",
   "name": "python",
   "nbconvert_exporter": "python",
   "pygments_lexer": "ipython3",
   "version": "3.12.0"
  }
 },
 "nbformat": 4,
 "nbformat_minor": 2
}
